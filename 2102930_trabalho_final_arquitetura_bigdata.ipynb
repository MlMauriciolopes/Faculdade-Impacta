{
  "nbformat": 4,
  "nbformat_minor": 0,
  "metadata": {
    "colab": {
      "name": "2102930_trabalho_final_arquitetura_bigdata.ipynb",
      "provenance": [],
      "collapsed_sections": [],
      "authorship_tag": "ABX9TyMLPzwRjSIOBjYmL1Zcxkn0",
      "include_colab_link": true
    },
    "kernelspec": {
      "name": "python3",
      "display_name": "Python 3"
    },
    "language_info": {
      "name": "python"
    }
  },
  "cells": [
    {
      "cell_type": "markdown",
      "metadata": {
        "id": "view-in-github",
        "colab_type": "text"
      },
      "source": [
        "<a href=\"https://colab.research.google.com/github/MlMauriciolopes/Faculdade-Impacta/blob/main/2102930_trabalho_final_arquitetura_bigdata.ipynb\" target=\"_parent\"><img src=\"https://colab.research.google.com/assets/colab-badge.svg\" alt=\"Open In Colab\"/></a>"
      ]
    },
    {
      "cell_type": "code",
      "execution_count": 18,
      "metadata": {
        "colab": {
          "base_uri": "https://localhost:8080/"
        },
        "id": "zZmVXTiJ7uzI",
        "outputId": "8d9e84c7-d929-4cfa-bde5-460332d18a2d"
      },
      "outputs": [
        {
          "output_type": "stream",
          "name": "stdout",
          "text": [
            "consulta.json  spark-3.1.2-bin-hadoop3.2  spark-3.1.2-bin-hadoop3.2.tgz\n"
          ]
        }
      ],
      "source": [
        "!ls \n",
        "!rm -rf *\n",
        "#Instacao e configuracao do Java 8\n",
        "!apt-get install openjdk-8-jdk-headless -qq > /dev/null\n",
        "#Download do Apache Spark\n",
        "!wget -q http://apache.osuosl.org/spark/spark-3.1.2/spark-3.1.2-bin-hadoop3.2.tgz\n",
        "#Descompatacao do Apache Spark\n",
        "!tar xf spark-3.1.2-bin-hadoop3.2.tgz\n",
        "#Instalacao do Findspark\n",
        "!pip install -q findspark"
      ]
    },
    {
      "cell_type": "code",
      "source": [
        "import os\n",
        "os.environ[\"JAVA_HOME\"] = \"/usr/lib/jvm/java-8-openjdk-amd64\"\n",
        "os.environ[\"SPARK_HOME\"] = \"/content/spark-3.1.2-bin-hadoop3.2\""
      ],
      "metadata": {
        "id": "tjOJ_J-28qs_"
      },
      "execution_count": 19,
      "outputs": []
    },
    {
      "cell_type": "code",
      "source": [
        "import findspark\n",
        "findspark.init()\n",
        "from pyspark.sql import SparkSession\n",
        "spark = SparkSession.builder.master(\"local[*]\").getOrCreate()"
      ],
      "metadata": {
        "id": "OrfIAsBY8x0C"
      },
      "execution_count": 20,
      "outputs": []
    },
    {
      "cell_type": "code",
      "source": [
        "import pyspark\n",
        "print(pyspark.__version__)"
      ],
      "metadata": {
        "colab": {
          "base_uri": "https://localhost:8080/"
        },
        "id": "vCSLOVFh84w9",
        "outputId": "231b1787-1c53-4e83-c1f5-23ab72455e11"
      },
      "execution_count": 21,
      "outputs": [
        {
          "output_type": "stream",
          "name": "stdout",
          "text": [
            "3.1.2\n"
          ]
        }
      ]
    },
    {
      "cell_type": "code",
      "source": [
        "!curl -X GET --header 'Accept: application/json' 'https://www3.bcb.gov.br/vet/rest/v2/listaPontoCambio?cnpj=00000000' > consulta.json"
      ],
      "metadata": {
        "colab": {
          "base_uri": "https://localhost:8080/"
        },
        "id": "4y3jm-Aj9QQ7",
        "outputId": "041d77f0-563e-467d-9988-b55a0e38abe3"
      },
      "execution_count": 32,
      "outputs": [
        {
          "output_type": "stream",
          "name": "stdout",
          "text": [
            "  % Total    % Received % Xferd  Average Speed   Time    Time     Time  Current\n",
            "                                 Dload  Upload   Total   Spent    Left  Speed\n",
            "100  150k    0  150k    0     0  90981      0 --:--:--  0:00:01 --:--:-- 90981\n"
          ]
        }
      ]
    },
    {
      "cell_type": "code",
      "source": [
        "#Instancia o contexto do Spark\n",
        "sc = spark.sparkContext\n",
        "#Realiza a leitura da nossa consulta realizada na API do\n",
        "path = \"/content/consulta.json\"\n",
        "#Declara dataframe df com o conteudo da api que estava no JSON\n",
        "df = spark.read.json(path)"
      ],
      "metadata": {
        "id": "TLe6p3PC9iHC"
      },
      "execution_count": 33,
      "outputs": []
    },
    {
      "cell_type": "code",
      "source": [
        "#Imprime a estrutura de dados do nosso dataframe\n",
        "df.printSchema()\n",
        "#Imprime uma amosta de dados ( para especificar as linhas basta colocar a quantidade entre ())\n",
        "df.show(10)"
      ],
      "metadata": {
        "colab": {
          "base_uri": "https://localhost:8080/"
        },
        "id": "5XLYAQEa9nZX",
        "outputId": "aeede1e8-327c-492b-eef1-e096350951fc"
      },
      "execution_count": 28,
      "outputs": [
        {
          "output_type": "stream",
          "name": "stdout",
          "text": [
            "root\n",
            " |-- listaPontoCambio: array (nullable = true)\n",
            " |    |-- element: struct (containsNull = true)\n",
            " |    |    |-- cidade: string (nullable = true)\n",
            " |    |    |-- cnpj: string (nullable = true)\n",
            " |    |    |-- endereco: string (nullable = true)\n",
            " |    |    |-- horaAbreDiaUtil: string (nullable = true)\n",
            " |    |    |-- horaAbreDomingo: string (nullable = true)\n",
            " |    |    |-- horaAbreFeriado: string (nullable = true)\n",
            " |    |    |-- horaAbreSabado: string (nullable = true)\n",
            " |    |    |-- horaFechaDiaUtil: string (nullable = true)\n",
            " |    |    |-- horaFechaDomingo: string (nullable = true)\n",
            " |    |    |-- horaFechaFeriado: string (nullable = true)\n",
            " |    |    |-- horaFechaSabado: string (nullable = true)\n",
            " |    |    |-- latitude: string (nullable = true)\n",
            " |    |    |-- longitude: string (nullable = true)\n",
            " |    |    |-- nome: string (nullable = true)\n",
            " |    |    |-- somenteClientes: boolean (nullable = true)\n",
            " |    |    |-- telefone1: string (nullable = true)\n",
            " |    |    |-- telefone2: string (nullable = true)\n",
            " |    |    |-- tipoAtendimento: string (nullable = true)\n",
            " |    |    |-- tipoServico: string (nullable = true)\n",
            " |    |    |-- uf: string (nullable = true)\n",
            "\n",
            "+--------------------+\n",
            "|    listaPontoCambio|\n",
            "+--------------------+\n",
            "|[{Belém, 00000000...|\n",
            "+--------------------+\n",
            "\n"
          ]
        }
      ]
    },
    {
      "cell_type": "code",
      "source": [
        "dfPrepared = df.selectExpr(\"explode(listaPontoCambio) as lista\")\n",
        "dfPrepared.show(50)"
      ],
      "metadata": {
        "colab": {
          "base_uri": "https://localhost:8080/"
        },
        "id": "Wvx4pXEI9ylh",
        "outputId": "6b5efbf3-6aeb-491b-8393-74e9fc54f1f9"
      },
      "execution_count": 53,
      "outputs": [
        {
          "output_type": "stream",
          "name": "stdout",
          "text": [
            "+--------------------+\n",
            "|               lista|\n",
            "+--------------------+\n",
            "|{Belém, 000000000...|\n",
            "|{São Paulo, 00000...|\n",
            "|{Rio de Janeiro, ...|\n",
            "|{Manaus, 00000000...|\n",
            "|{Belém, 000000000...|\n",
            "|{Santos, 00000000...|\n",
            "|{Recife, 00000000...|\n",
            "|{Curitiba, 000000...|\n",
            "|{João Pessoa, 000...|\n",
            "|{Maceió, 00000000...|\n",
            "|{Uberaba, 0000000...|\n",
            "|{Florianópolis, 0...|\n",
            "|{Aracaju, 0000000...|\n",
            "|{São Paulo, 00000...|\n",
            "|{Ilhéus, 00000000...|\n",
            "|{São Luís, 000000...|\n",
            "|{Natal, 000000000...|\n",
            "|{Parnaíba, 000000...|\n",
            "|{Juiz de Fora, 00...|\n",
            "|{Ribeirão Preto, ...|\n",
            "|{Ponta Grossa, 00...|\n",
            "|{Belo Horizonte, ...|\n",
            "|{Bauru, 000000000...|\n",
            "|{Feira de Santana...|\n",
            "|{Teresina, 000000...|\n",
            "|{Cuiabá, 00000000...|\n",
            "|{Campo Grande, 00...|\n",
            "|{Macaé, 000000000...|\n",
            "|{Campinas, 000000...|\n",
            "|{Bebedouro, 00000...|\n",
            "|{Piracicaba, 0000...|\n",
            "|{São José do Rio ...|\n",
            "|{Lins, 0000000000...|\n",
            "|{Itabuna, 0000000...|\n",
            "|{Rio Branco, 0000...|\n",
            "|{Taubaté, 0000000...|\n",
            "|{Araraquara, 0000...|\n",
            "|{Rio Grande, 0000...|\n",
            "|{Rio de Janeiro, ...|\n",
            "|{Caxias do Sul, 0...|\n",
            "|{Presidente Prude...|\n",
            "|{Uberlândia, 0000...|\n",
            "|{Porto Velho, 000...|\n",
            "|{Aracati, 0000000...|\n",
            "|{Tupã, 0000000000...|\n",
            "|{Marília, 0000000...|\n",
            "|{Governador Valad...|\n",
            "|{Quaraí, 00000000...|\n",
            "|{São José dos Cam...|\n",
            "|{Araçatuba, 00000...|\n",
            "+--------------------+\n",
            "only showing top 50 rows\n",
            "\n"
          ]
        }
      ]
    },
    {
      "cell_type": "code",
      "source": [
        "dfPrepared = dfPrepared.selectExpr(\"replace(replace(replace(replace(replace(replace(replace(replace(replace(replace(replace(replace(replace(replace(replace(replace(replace(replace(replace(replace(replace(replace(replace(replace(replace(replace(replace(replace(replace(replace(replace(replace(replace(replace(replace(replace(replace(replace(replace(replace(replace(replace(replace(replace(replace(replace(replace(replace(replace(lista.cidade,CHAR(192),'A'),CHAR(193),'A'),CHAR(194),'A'),CHAR(195),'A'),CHAR(196),'A'),CHAR(197),'A'),CHAR(224),'a'),CHAR(225),'a'),CHAR(226),'a'),CHAR(227),'a'),CHAR(228),'a'),CHAR(229),'a'),CHAR(200),'E'),CHAR(201),'E'),CHAR(202),'E'),CHAR(203),'E'),CHAR(232),'e'),CHAR(233),'e'),CHAR(234),'e'),CHAR(235),'e'),CHAR(204),'I'),CHAR(205),'I'),CHAR(206),'I'),CHAR(207),'I'),CHAR(236),'i'),CHAR(237),'i'),CHAR(238),'i'),CHAR(239),'i'),CHAR(210),'O'),CHAR(211),'O'),CHAR(212),'O'),CHAR(213),'O'),CHAR(214),'O'),CHAR(240),'o'),CHAR(242),'o'),CHAR(243),'o'),CHAR(244),'o'),CHAR(245),'o'),CHAR(246),'o'),CHAR(217),'U'),CHAR(218),'U'),CHAR(219),'U'),CHAR(220),'U'),CHAR(249),'u'),CHAR(250),'u'),CHAR(251),'u'),CHAR(252),'u'),CHAR(199),'C'),CHAR(231),'c') as cidade\",\n",
        "        \"CAST(lista.cnpj as long) as cnpj\",\n",
        "        \"replace(replace(replace(replace(replace(replace(replace(replace(replace(replace(replace(replace(replace(replace(replace(replace(replace(replace(replace(replace(replace(replace(replace(replace(replace(replace(replace(replace(replace(replace(replace(replace(replace(replace(replace(replace(replace(replace(replace(replace(replace(replace(replace(replace(replace(replace(replace(replace(replace(lista.endereco,CHAR(192),'A'),CHAR(193),'A'),CHAR(194),'A'),CHAR(195),'A'),CHAR(196),'A'),CHAR(197),'A'),CHAR(224),'a'),CHAR(225),'a'),CHAR(226),'a'),CHAR(227),'a'),CHAR(228),'a'),CHAR(229),'a'),CHAR(200),'E'),CHAR(201),'E'),CHAR(202),'E'),CHAR(203),'E'),CHAR(232),'e'),CHAR(233),'e'),CHAR(234),'e'),CHAR(235),'e'),CHAR(204),'I'),CHAR(205),'I'),CHAR(206),'I'),CHAR(207),'I'),CHAR(236),'i'),CHAR(237),'i'),CHAR(238),'i'),CHAR(239),'i'),CHAR(210),'O'),CHAR(211),'O'),CHAR(212),'O'),CHAR(213),'O'),CHAR(214),'O'),CHAR(240),'o'),CHAR(242),'o'),CHAR(243),'o'),CHAR(244),'o'),CHAR(245),'o'),CHAR(246),'o'),CHAR(217),'U'),CHAR(218),'U'),CHAR(219),'U'),CHAR(220),'U'),CHAR(249),'u'),CHAR(250),'u'),CHAR(251),'u'),CHAR(252),'u'),CHAR(199),'C'),CHAR(231),'c') as endereco\",\n",
        "        \"lista.horaAbreDiaUtil\",\n",
        "        \"lista.horaAbreDomingo\",\n",
        "        \"lista.horaAbreFeriado\",\n",
        "        \"lista.horaAbreSabado\",\n",
        "        \"lista.horaFechaDiaUtil\", \n",
        "        \"lista.horaFechaDomingo\",\n",
        "        \"lista.horaFechaFeriado\",\n",
        "        \"lista.horaFechaSabado\",\n",
        "        \"lista.latitude\",\n",
        "        \"lista.longitude\",\n",
        "        \"replace(replace(replace(replace(replace(replace(replace(replace(replace(replace(replace(replace(replace(replace(replace(replace(replace(replace(replace(replace(replace(replace(replace(replace(replace(replace(replace(replace(replace(replace(replace(replace(replace(replace(replace(replace(replace(replace(replace(replace(replace(replace(replace(replace(replace(replace(replace(replace(replace(lista.nome,CHAR(192),'A'),CHAR(193),'A'),CHAR(194),'A'),CHAR(195),'A'),CHAR(196),'A'),CHAR(197),'A'),CHAR(224),'a'),CHAR(225),'a'),CHAR(226),'a'),CHAR(227),'a'),CHAR(228),'a'),CHAR(229),'a'),CHAR(200),'E'),CHAR(201),'E'),CHAR(202),'E'),CHAR(203),'E'),CHAR(232),'e'),CHAR(233),'e'),CHAR(234),'e'),CHAR(235),'e'),CHAR(204),'I'),CHAR(205),'I'),CHAR(206),'I'),CHAR(207),'I'),CHAR(236),'i'),CHAR(237),'i'),CHAR(238),'i'),CHAR(239),'i'),CHAR(210),'O'),CHAR(211),'O'),CHAR(212),'O'),CHAR(213),'O'),CHAR(214),'O'),CHAR(240),'o'),CHAR(242),'o'),CHAR(243),'o'),CHAR(244),'o'),CHAR(245),'o'),CHAR(246),'o'),CHAR(217),'U'),CHAR(218),'U'),CHAR(219),'U'),CHAR(220),'U'),CHAR(249),'u'),CHAR(250),'u'),CHAR(251),'u'),CHAR(252),'u'),CHAR(199),'C'),CHAR(231),'c') as nome\",\n",
        "        \"CAST(lista.somenteClientes as string) as somenteClientes\",\n",
        "        \"lista.telefone1\",\n",
        "        \"lista.telefone2\",\n",
        "        \"lista.tipoAtendimento\",\n",
        "        \"lista.tipoServico\",\n",
        "        \"lista.uf\",\n",
        "        \"CAST(0 as long) as cnpj_instituicao\",\n",
        "        \"'' as enderecoEletronico_instituicao\", \n",
        "        \"'' as nome_instituicao\")\n",
        "dfPrepared.show()"
      ],
      "metadata": {
        "colab": {
          "base_uri": "https://localhost:8080/"
        },
        "id": "oam6g8wTQX84",
        "outputId": "17e25d36-c72a-4e0f-b761-77364dcd0c10"
      },
      "execution_count": 54,
      "outputs": [
        {
          "output_type": "stream",
          "name": "stdout",
          "text": [
            "+--------------+----+--------------------+---------------+---------------+---------------+--------------+----------------+----------------+----------------+---------------+----------+----------+--------------------+---------------+---------------+---------+---------------+-----------+---+----------------+------------------------------+----------------+\n",
            "|        cidade|cnpj|            endereco|horaAbreDiaUtil|horaAbreDomingo|horaAbreFeriado|horaAbreSabado|horaFechaDiaUtil|horaFechaDomingo|horaFechaFeriado|horaFechaSabado|  latitude| longitude|                nome|somenteClientes|      telefone1|telefone2|tipoAtendimento|tipoServico| uf|cnpj_instituicao|enderecoEletronico_instituicao|nome_instituicao|\n",
            "+--------------+----+--------------------+---------------+---------------+---------------+--------------+----------------+----------------+----------------+---------------+----------+----------+--------------------+---------------+---------------+---------+---------------+-----------+---+----------------+------------------------------+----------------+\n",
            "|         Belem| 191|Av.Comandante Bra...|          10:00|               |               |              |           16:00|                |                |               | -1.455400|-48.490600|Banco do Brasil-a...|          false|(091) 3184-1851|         |              P|          T| PA|               0|                              |                |\n",
            "|     Sao Paulo| 191|R.Voluntarios da ...|          10:00|               |               |              |           16:00|                |                |               |-23.504463|-46.626349|Banco do Brasil-a...|          false|(011) 2104-4855|         |              P|          T| SP|               0|                              |                |\n",
            "|Rio de Janeiro| 191|R.Sen.Dantas,105,...|          10:00|               |               |              |           16:00|                |                |               |-22.908910|-43.178149|Banco do Brasil-a...|           true|(021) 3808-3900|         |              P|          T| RJ|               0|                              |                |\n",
            "|        Manaus| 191|R.Guilherme Morei...|          10:00|               |               |              |           16:00|                |                |               | -3.135501|-60.022957|Banco do Brasil-a...|           true|(092) 3621-5500|         |              P|          T| AM|               0|                              |                |\n",
            "|         Belem| 191|Av.Pres.Vargas,24...|          10:00|               |               |              |           16:00|                |                |               | -1.449700|-48.497783|Banco do Brasil-a...|           true|(091) 3216-4775|         |              P|          T| PA|               0|                              |                |\n",
            "|        Santos| 191|R.Quinze de Novem...|          10:00|               |               |              |           16:00|                |                |               |-23.932737|-46.327776|Banco do Brasil-a...|           true|(013) 4009-7455|         |              P|          T| SP|               0|                              |                |\n",
            "|        Recife| 191|Av.Rio Branco,240...|          10:00|               |               |              |           16:00|                |                |               | -8.062198|-34.873771|Banco do Brasil-a...|           true|(081) 3425-7530|         |              P|          T| PE|               0|                              |                |\n",
            "|      Curitiba| 191|Pca.Tiradentes,41...|          10:00|               |               |              |           16:00|                |                |               |-25.430403|-49.272318|Banco do Brasil-a...|           true|(041) 3321-2000|         |              P|          T| PR|               0|                              |                |\n",
            "|   Joao Pessoa| 191| Pca.1817,129,Centro|          10:00|               |               |              |           16:00|                |                |               | -7.121275|-34.883223|Banco do Brasil-a...|           true|(083) 2108-1800|         |              P|          T| PB|               0|                              |                |\n",
            "|        Maceio| 191|R.Do Livramento,1...|          10:00|               |               |              |           16:00|                |                |               | -9.665840|-35.740500|Banco do Brasil-a...|           true|(082) 3311-1240|         |              P|          T| AL|               0|                              |                |\n",
            "|       Uberaba| 191|Av.Leopoldino de ...|          10:00|               |               |              |           16:00|                |                |               |-19.748000|-47.935700|Banco do Brasil-a...|           true|(034) 3319-1900|         |              P|          T| MG|               0|                              |                |\n",
            "| Florianopolis| 191|Pca.Quinze de Nov...|          10:00|               |               |              |           16:00|                |                |               |-27.596762|-48.548980|Banco do Brasil-a...|           true|(048) 3221-1600|         |              P|          T| SC|               0|                              |                |\n",
            "|       Aracaju| 191|Pca.Gal.Valadao,3...|          10:00|               |               |              |           16:00|                |                |               |-10.909100|-37.048600|Banco do Brasil-a...|           true|(079) 3212-1000|         |              P|          T| SE|               0|                              |                |\n",
            "|     Sao Paulo| 191|R.Sao Bento,483,C...|          10:00|               |               |              |           16:00|                |                |               |-23.546538|-46.635358|Banco do Brasil-a...|           true|(011) 3491-3992|         |              P|          T| SP|               0|                              |                |\n",
            "|        Ilheus| 191|R.Marques de Para...|          10:00|               |               |              |           16:00|                |                |               |-14.798900|-39.034200|Banco do Brasil-a...|           true|(073) 3634-2813|         |              P|          T| BA|               0|                              |                |\n",
            "|      Sao Luis| 191|Av.Gomes de Castr...|          10:00|               |               |              |           16:00|                |                |               | -2.529530|-44.303000|Banco do Brasil-a...|           true|(098) 3216-3500|         |              P|          T| MA|               0|                              |                |\n",
            "|         Natal| 191|Av.Rio Branco,510...|          10:00|               |               |              |           16:00|                |                |               | -5.784199|-35.206143|Banco do Brasil-a...|           true|(084) 3216-4538|         |              P|          T| RN|               0|                              |                |\n",
            "|      Parnaiba| 191|Pca.Da Graca,340,...|          10:00|               |               |              |           16:00|                |                |               | -2.903587|-41.779999|Banco do Brasil-a...|           true|(086) 3321-2925|         |              P|          T| PI|               0|                              |                |\n",
            "|  Juiz de Fora| 191|R.Halfeld,770,Centro|          10:00|               |               |              |           16:00|                |                |               |-21.761125|-43.348723|Banco do Brasil-a...|           true|(032) 3690-5000|         |              P|          T| MG|               0|                              |                |\n",
            "|Ribeirao Preto| 191|R.Duque de Caxias...|          10:00|               |               |              |           16:00|                |                |               |-21.175600|-47.807500|Banco do Brasil-a...|           true|(016) 3323-7660|         |              P|          T| SP|               0|                              |                |\n",
            "+--------------+----+--------------------+---------------+---------------+---------------+--------------+----------------+----------------+----------------+---------------+----------+----------+--------------------+---------------+---------------+---------+---------------+-----------+---+----------------+------------------------------+----------------+\n",
            "only showing top 20 rows\n",
            "\n"
          ]
        }
      ]
    },
    {
      "cell_type": "code",
      "source": [
        "spark.sql(\"select count(0) from dfPrepared\").show()"
      ],
      "metadata": {
        "colab": {
          "base_uri": "https://localhost:8080/"
        },
        "id": "uRwnZc1fQirq",
        "outputId": "b7e4ad5b-82bf-4291-d92e-793c219ae5a0"
      },
      "execution_count": 56,
      "outputs": [
        {
          "output_type": "stream",
          "name": "stdout",
          "text": [
            "+--------+\n",
            "|count(0)|\n",
            "+--------+\n",
            "|     316|\n",
            "+--------+\n",
            "\n"
          ]
        }
      ]
    },
    {
      "cell_type": "code",
      "source": [
        "df2 = spark.sql(\"select count(*),uf from dfPrepared group by 2 order by 1 desc\")\n",
        "df2.show(1000)"
      ],
      "metadata": {
        "colab": {
          "base_uri": "https://localhost:8080/"
        },
        "id": "Utkr1PCdQoiW",
        "outputId": "77ed501f-8c80-41dd-a454-69dae9117ae6"
      },
      "execution_count": 57,
      "outputs": [
        {
          "output_type": "stream",
          "name": "stdout",
          "text": [
            "+--------+---+\n",
            "|count(1)| uf|\n",
            "+--------+---+\n",
            "|      87| SP|\n",
            "|      84| RJ|\n",
            "|      21| DF|\n",
            "|      15| MG|\n",
            "|      13| BA|\n",
            "|      13| RS|\n",
            "|      10| CE|\n",
            "|      10| PR|\n",
            "|       9| ES|\n",
            "|       8| SC|\n",
            "|       5| GO|\n",
            "|       5| RN|\n",
            "|       4| MT|\n",
            "|       4| AL|\n",
            "|       3| PI|\n",
            "|       3| PA|\n",
            "|       3| SE|\n",
            "|       3| PB|\n",
            "|       3| AM|\n",
            "|       3| PE|\n",
            "|       3| MS|\n",
            "|       2| MA|\n",
            "|       1| RO|\n",
            "|       1| TO|\n",
            "|       1| RR|\n",
            "|       1| AC|\n",
            "|       1| AP|\n",
            "+--------+---+\n",
            "\n"
          ]
        }
      ]
    },
    {
      "cell_type": "code",
      "source": [
        "import pandas as pd\n",
        "df_pandas = df2.select(\"*\").toPandas()\n",
        "df_normalized = df2.toPandas()"
      ],
      "metadata": {
        "id": "-ytsBYLtSEfR"
      },
      "execution_count": 58,
      "outputs": []
    },
    {
      "cell_type": "code",
      "source": [
        "df_normalized.head()"
      ],
      "metadata": {
        "colab": {
          "base_uri": "https://localhost:8080/",
          "height": 206
        },
        "id": "2_nfzV4lSJ3-",
        "outputId": "471cdd2b-676e-4fc4-996c-a92536685e21"
      },
      "execution_count": 59,
      "outputs": [
        {
          "output_type": "execute_result",
          "data": {
            "text/html": [
              "\n",
              "  <div id=\"df-fceb209d-bc12-4bf4-90b4-7e44259c1700\">\n",
              "    <div class=\"colab-df-container\">\n",
              "      <div>\n",
              "<style scoped>\n",
              "    .dataframe tbody tr th:only-of-type {\n",
              "        vertical-align: middle;\n",
              "    }\n",
              "\n",
              "    .dataframe tbody tr th {\n",
              "        vertical-align: top;\n",
              "    }\n",
              "\n",
              "    .dataframe thead th {\n",
              "        text-align: right;\n",
              "    }\n",
              "</style>\n",
              "<table border=\"1\" class=\"dataframe\">\n",
              "  <thead>\n",
              "    <tr style=\"text-align: right;\">\n",
              "      <th></th>\n",
              "      <th>count(1)</th>\n",
              "      <th>uf</th>\n",
              "    </tr>\n",
              "  </thead>\n",
              "  <tbody>\n",
              "    <tr>\n",
              "      <th>0</th>\n",
              "      <td>87</td>\n",
              "      <td>SP</td>\n",
              "    </tr>\n",
              "    <tr>\n",
              "      <th>1</th>\n",
              "      <td>84</td>\n",
              "      <td>RJ</td>\n",
              "    </tr>\n",
              "    <tr>\n",
              "      <th>2</th>\n",
              "      <td>21</td>\n",
              "      <td>DF</td>\n",
              "    </tr>\n",
              "    <tr>\n",
              "      <th>3</th>\n",
              "      <td>15</td>\n",
              "      <td>MG</td>\n",
              "    </tr>\n",
              "    <tr>\n",
              "      <th>4</th>\n",
              "      <td>13</td>\n",
              "      <td>RS</td>\n",
              "    </tr>\n",
              "  </tbody>\n",
              "</table>\n",
              "</div>\n",
              "      <button class=\"colab-df-convert\" onclick=\"convertToInteractive('df-fceb209d-bc12-4bf4-90b4-7e44259c1700')\"\n",
              "              title=\"Convert this dataframe to an interactive table.\"\n",
              "              style=\"display:none;\">\n",
              "        \n",
              "  <svg xmlns=\"http://www.w3.org/2000/svg\" height=\"24px\"viewBox=\"0 0 24 24\"\n",
              "       width=\"24px\">\n",
              "    <path d=\"M0 0h24v24H0V0z\" fill=\"none\"/>\n",
              "    <path d=\"M18.56 5.44l.94 2.06.94-2.06 2.06-.94-2.06-.94-.94-2.06-.94 2.06-2.06.94zm-11 1L8.5 8.5l.94-2.06 2.06-.94-2.06-.94L8.5 2.5l-.94 2.06-2.06.94zm10 10l.94 2.06.94-2.06 2.06-.94-2.06-.94-.94-2.06-.94 2.06-2.06.94z\"/><path d=\"M17.41 7.96l-1.37-1.37c-.4-.4-.92-.59-1.43-.59-.52 0-1.04.2-1.43.59L10.3 9.45l-7.72 7.72c-.78.78-.78 2.05 0 2.83L4 21.41c.39.39.9.59 1.41.59.51 0 1.02-.2 1.41-.59l7.78-7.78 2.81-2.81c.8-.78.8-2.07 0-2.86zM5.41 20L4 18.59l7.72-7.72 1.47 1.35L5.41 20z\"/>\n",
              "  </svg>\n",
              "      </button>\n",
              "      \n",
              "  <style>\n",
              "    .colab-df-container {\n",
              "      display:flex;\n",
              "      flex-wrap:wrap;\n",
              "      gap: 12px;\n",
              "    }\n",
              "\n",
              "    .colab-df-convert {\n",
              "      background-color: #E8F0FE;\n",
              "      border: none;\n",
              "      border-radius: 50%;\n",
              "      cursor: pointer;\n",
              "      display: none;\n",
              "      fill: #1967D2;\n",
              "      height: 32px;\n",
              "      padding: 0 0 0 0;\n",
              "      width: 32px;\n",
              "    }\n",
              "\n",
              "    .colab-df-convert:hover {\n",
              "      background-color: #E2EBFA;\n",
              "      box-shadow: 0px 1px 2px rgba(60, 64, 67, 0.3), 0px 1px 3px 1px rgba(60, 64, 67, 0.15);\n",
              "      fill: #174EA6;\n",
              "    }\n",
              "\n",
              "    [theme=dark] .colab-df-convert {\n",
              "      background-color: #3B4455;\n",
              "      fill: #D2E3FC;\n",
              "    }\n",
              "\n",
              "    [theme=dark] .colab-df-convert:hover {\n",
              "      background-color: #434B5C;\n",
              "      box-shadow: 0px 1px 3px 1px rgba(0, 0, 0, 0.15);\n",
              "      filter: drop-shadow(0px 1px 2px rgba(0, 0, 0, 0.3));\n",
              "      fill: #FFFFFF;\n",
              "    }\n",
              "  </style>\n",
              "\n",
              "      <script>\n",
              "        const buttonEl =\n",
              "          document.querySelector('#df-fceb209d-bc12-4bf4-90b4-7e44259c1700 button.colab-df-convert');\n",
              "        buttonEl.style.display =\n",
              "          google.colab.kernel.accessAllowed ? 'block' : 'none';\n",
              "\n",
              "        async function convertToInteractive(key) {\n",
              "          const element = document.querySelector('#df-fceb209d-bc12-4bf4-90b4-7e44259c1700');\n",
              "          const dataTable =\n",
              "            await google.colab.kernel.invokeFunction('convertToInteractive',\n",
              "                                                     [key], {});\n",
              "          if (!dataTable) return;\n",
              "\n",
              "          const docLinkHtml = 'Like what you see? Visit the ' +\n",
              "            '<a target=\"_blank\" href=https://colab.research.google.com/notebooks/data_table.ipynb>data table notebook</a>'\n",
              "            + ' to learn more about interactive tables.';\n",
              "          element.innerHTML = '';\n",
              "          dataTable['output_type'] = 'display_data';\n",
              "          await google.colab.output.renderOutput(dataTable, element);\n",
              "          const docLink = document.createElement('div');\n",
              "          docLink.innerHTML = docLinkHtml;\n",
              "          element.appendChild(docLink);\n",
              "        }\n",
              "      </script>\n",
              "    </div>\n",
              "  </div>\n",
              "  "
            ],
            "text/plain": [
              "   count(1)  uf\n",
              "0        87  SP\n",
              "1        84  RJ\n",
              "2        21  DF\n",
              "3        15  MG\n",
              "4        13  RS"
            ]
          },
          "metadata": {},
          "execution_count": 59
        }
      ]
    },
    {
      "cell_type": "code",
      "source": [
        "# análises extras\n",
        "df_normalized.head(500)"
      ],
      "metadata": {
        "colab": {
          "base_uri": "https://localhost:8080/",
          "height": 896
        },
        "id": "J0GBQUitTnrG",
        "outputId": "db8bb0d7-2bb1-4c1a-f462-a9a58135aca7"
      },
      "execution_count": 61,
      "outputs": [
        {
          "output_type": "execute_result",
          "data": {
            "text/html": [
              "\n",
              "  <div id=\"df-882fbaaf-1d0f-4686-94f3-1b10c345bca9\">\n",
              "    <div class=\"colab-df-container\">\n",
              "      <div>\n",
              "<style scoped>\n",
              "    .dataframe tbody tr th:only-of-type {\n",
              "        vertical-align: middle;\n",
              "    }\n",
              "\n",
              "    .dataframe tbody tr th {\n",
              "        vertical-align: top;\n",
              "    }\n",
              "\n",
              "    .dataframe thead th {\n",
              "        text-align: right;\n",
              "    }\n",
              "</style>\n",
              "<table border=\"1\" class=\"dataframe\">\n",
              "  <thead>\n",
              "    <tr style=\"text-align: right;\">\n",
              "      <th></th>\n",
              "      <th>count(1)</th>\n",
              "      <th>uf</th>\n",
              "    </tr>\n",
              "  </thead>\n",
              "  <tbody>\n",
              "    <tr>\n",
              "      <th>0</th>\n",
              "      <td>87</td>\n",
              "      <td>SP</td>\n",
              "    </tr>\n",
              "    <tr>\n",
              "      <th>1</th>\n",
              "      <td>84</td>\n",
              "      <td>RJ</td>\n",
              "    </tr>\n",
              "    <tr>\n",
              "      <th>2</th>\n",
              "      <td>21</td>\n",
              "      <td>DF</td>\n",
              "    </tr>\n",
              "    <tr>\n",
              "      <th>3</th>\n",
              "      <td>15</td>\n",
              "      <td>MG</td>\n",
              "    </tr>\n",
              "    <tr>\n",
              "      <th>4</th>\n",
              "      <td>13</td>\n",
              "      <td>RS</td>\n",
              "    </tr>\n",
              "    <tr>\n",
              "      <th>5</th>\n",
              "      <td>13</td>\n",
              "      <td>BA</td>\n",
              "    </tr>\n",
              "    <tr>\n",
              "      <th>6</th>\n",
              "      <td>10</td>\n",
              "      <td>CE</td>\n",
              "    </tr>\n",
              "    <tr>\n",
              "      <th>7</th>\n",
              "      <td>10</td>\n",
              "      <td>PR</td>\n",
              "    </tr>\n",
              "    <tr>\n",
              "      <th>8</th>\n",
              "      <td>9</td>\n",
              "      <td>ES</td>\n",
              "    </tr>\n",
              "    <tr>\n",
              "      <th>9</th>\n",
              "      <td>8</td>\n",
              "      <td>SC</td>\n",
              "    </tr>\n",
              "    <tr>\n",
              "      <th>10</th>\n",
              "      <td>5</td>\n",
              "      <td>GO</td>\n",
              "    </tr>\n",
              "    <tr>\n",
              "      <th>11</th>\n",
              "      <td>5</td>\n",
              "      <td>RN</td>\n",
              "    </tr>\n",
              "    <tr>\n",
              "      <th>12</th>\n",
              "      <td>4</td>\n",
              "      <td>MT</td>\n",
              "    </tr>\n",
              "    <tr>\n",
              "      <th>13</th>\n",
              "      <td>4</td>\n",
              "      <td>AL</td>\n",
              "    </tr>\n",
              "    <tr>\n",
              "      <th>14</th>\n",
              "      <td>3</td>\n",
              "      <td>PI</td>\n",
              "    </tr>\n",
              "    <tr>\n",
              "      <th>15</th>\n",
              "      <td>3</td>\n",
              "      <td>AM</td>\n",
              "    </tr>\n",
              "    <tr>\n",
              "      <th>16</th>\n",
              "      <td>3</td>\n",
              "      <td>PB</td>\n",
              "    </tr>\n",
              "    <tr>\n",
              "      <th>17</th>\n",
              "      <td>3</td>\n",
              "      <td>MS</td>\n",
              "    </tr>\n",
              "    <tr>\n",
              "      <th>18</th>\n",
              "      <td>3</td>\n",
              "      <td>PA</td>\n",
              "    </tr>\n",
              "    <tr>\n",
              "      <th>19</th>\n",
              "      <td>3</td>\n",
              "      <td>SE</td>\n",
              "    </tr>\n",
              "    <tr>\n",
              "      <th>20</th>\n",
              "      <td>3</td>\n",
              "      <td>PE</td>\n",
              "    </tr>\n",
              "    <tr>\n",
              "      <th>21</th>\n",
              "      <td>2</td>\n",
              "      <td>MA</td>\n",
              "    </tr>\n",
              "    <tr>\n",
              "      <th>22</th>\n",
              "      <td>1</td>\n",
              "      <td>RO</td>\n",
              "    </tr>\n",
              "    <tr>\n",
              "      <th>23</th>\n",
              "      <td>1</td>\n",
              "      <td>RR</td>\n",
              "    </tr>\n",
              "    <tr>\n",
              "      <th>24</th>\n",
              "      <td>1</td>\n",
              "      <td>TO</td>\n",
              "    </tr>\n",
              "    <tr>\n",
              "      <th>25</th>\n",
              "      <td>1</td>\n",
              "      <td>AC</td>\n",
              "    </tr>\n",
              "    <tr>\n",
              "      <th>26</th>\n",
              "      <td>1</td>\n",
              "      <td>AP</td>\n",
              "    </tr>\n",
              "  </tbody>\n",
              "</table>\n",
              "</div>\n",
              "      <button class=\"colab-df-convert\" onclick=\"convertToInteractive('df-882fbaaf-1d0f-4686-94f3-1b10c345bca9')\"\n",
              "              title=\"Convert this dataframe to an interactive table.\"\n",
              "              style=\"display:none;\">\n",
              "        \n",
              "  <svg xmlns=\"http://www.w3.org/2000/svg\" height=\"24px\"viewBox=\"0 0 24 24\"\n",
              "       width=\"24px\">\n",
              "    <path d=\"M0 0h24v24H0V0z\" fill=\"none\"/>\n",
              "    <path d=\"M18.56 5.44l.94 2.06.94-2.06 2.06-.94-2.06-.94-.94-2.06-.94 2.06-2.06.94zm-11 1L8.5 8.5l.94-2.06 2.06-.94-2.06-.94L8.5 2.5l-.94 2.06-2.06.94zm10 10l.94 2.06.94-2.06 2.06-.94-2.06-.94-.94-2.06-.94 2.06-2.06.94z\"/><path d=\"M17.41 7.96l-1.37-1.37c-.4-.4-.92-.59-1.43-.59-.52 0-1.04.2-1.43.59L10.3 9.45l-7.72 7.72c-.78.78-.78 2.05 0 2.83L4 21.41c.39.39.9.59 1.41.59.51 0 1.02-.2 1.41-.59l7.78-7.78 2.81-2.81c.8-.78.8-2.07 0-2.86zM5.41 20L4 18.59l7.72-7.72 1.47 1.35L5.41 20z\"/>\n",
              "  </svg>\n",
              "      </button>\n",
              "      \n",
              "  <style>\n",
              "    .colab-df-container {\n",
              "      display:flex;\n",
              "      flex-wrap:wrap;\n",
              "      gap: 12px;\n",
              "    }\n",
              "\n",
              "    .colab-df-convert {\n",
              "      background-color: #E8F0FE;\n",
              "      border: none;\n",
              "      border-radius: 50%;\n",
              "      cursor: pointer;\n",
              "      display: none;\n",
              "      fill: #1967D2;\n",
              "      height: 32px;\n",
              "      padding: 0 0 0 0;\n",
              "      width: 32px;\n",
              "    }\n",
              "\n",
              "    .colab-df-convert:hover {\n",
              "      background-color: #E2EBFA;\n",
              "      box-shadow: 0px 1px 2px rgba(60, 64, 67, 0.3), 0px 1px 3px 1px rgba(60, 64, 67, 0.15);\n",
              "      fill: #174EA6;\n",
              "    }\n",
              "\n",
              "    [theme=dark] .colab-df-convert {\n",
              "      background-color: #3B4455;\n",
              "      fill: #D2E3FC;\n",
              "    }\n",
              "\n",
              "    [theme=dark] .colab-df-convert:hover {\n",
              "      background-color: #434B5C;\n",
              "      box-shadow: 0px 1px 3px 1px rgba(0, 0, 0, 0.15);\n",
              "      filter: drop-shadow(0px 1px 2px rgba(0, 0, 0, 0.3));\n",
              "      fill: #FFFFFF;\n",
              "    }\n",
              "  </style>\n",
              "\n",
              "      <script>\n",
              "        const buttonEl =\n",
              "          document.querySelector('#df-882fbaaf-1d0f-4686-94f3-1b10c345bca9 button.colab-df-convert');\n",
              "        buttonEl.style.display =\n",
              "          google.colab.kernel.accessAllowed ? 'block' : 'none';\n",
              "\n",
              "        async function convertToInteractive(key) {\n",
              "          const element = document.querySelector('#df-882fbaaf-1d0f-4686-94f3-1b10c345bca9');\n",
              "          const dataTable =\n",
              "            await google.colab.kernel.invokeFunction('convertToInteractive',\n",
              "                                                     [key], {});\n",
              "          if (!dataTable) return;\n",
              "\n",
              "          const docLinkHtml = 'Like what you see? Visit the ' +\n",
              "            '<a target=\"_blank\" href=https://colab.research.google.com/notebooks/data_table.ipynb>data table notebook</a>'\n",
              "            + ' to learn more about interactive tables.';\n",
              "          element.innerHTML = '';\n",
              "          dataTable['output_type'] = 'display_data';\n",
              "          await google.colab.output.renderOutput(dataTable, element);\n",
              "          const docLink = document.createElement('div');\n",
              "          docLink.innerHTML = docLinkHtml;\n",
              "          element.appendChild(docLink);\n",
              "        }\n",
              "      </script>\n",
              "    </div>\n",
              "  </div>\n",
              "  "
            ],
            "text/plain": [
              "    count(1)  uf\n",
              "0         87  SP\n",
              "1         84  RJ\n",
              "2         21  DF\n",
              "3         15  MG\n",
              "4         13  RS\n",
              "5         13  BA\n",
              "6         10  CE\n",
              "7         10  PR\n",
              "8          9  ES\n",
              "9          8  SC\n",
              "10         5  GO\n",
              "11         5  RN\n",
              "12         4  MT\n",
              "13         4  AL\n",
              "14         3  PI\n",
              "15         3  AM\n",
              "16         3  PB\n",
              "17         3  MS\n",
              "18         3  PA\n",
              "19         3  SE\n",
              "20         3  PE\n",
              "21         2  MA\n",
              "22         1  RO\n",
              "23         1  RR\n",
              "24         1  TO\n",
              "25         1  AC\n",
              "26         1  AP"
            ]
          },
          "metadata": {},
          "execution_count": 61
        }
      ]
    }
  ]
}